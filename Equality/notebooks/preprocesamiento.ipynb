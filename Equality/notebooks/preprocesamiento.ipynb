{
 "cells": [
  {
   "cell_type": "code",
   "execution_count": 2,
   "id": "10b0bf3e",
   "metadata": {},
   "outputs": [],
   "source": [
    "import pandas as pd\n",
    "import numpy as np\n",
    "import matplotlib.pyplot as plt\n",
    "import seaborn as sns\n",
    "import plotly.express as px"
   ]
  },
  {
   "cell_type": "code",
   "execution_count": 3,
   "id": "55a92467",
   "metadata": {},
   "outputs": [
    {
     "name": "stderr",
     "output_type": "stream",
     "text": [
      "C:\\Users\\paula\\AppData\\Local\\Temp\\ipykernel_27148\\1721469193.py:1: DtypeWarning: Columns (192,198,666) have mixed types. Specify dtype option on import or set low_memory=False.\n",
      "  df = pd.read_csv(r'C:\\Users\\paula\\Downloads\\Bootcamp\\PROYECTO_1\\Equality\\data\\ESS11.csv')\n"
     ]
    }
   ],
   "source": [
    "df = pd.read_csv(r'C:\\Users\\paula\\Downloads\\Bootcamp\\PROYECTO_1\\Equality\\data\\ESS11.csv')"
   ]
  },
  {
   "cell_type": "code",
   "execution_count": 4,
   "id": "979c8348",
   "metadata": {},
   "outputs": [
    {
     "data": {
      "text/html": [
       "<div>\n",
       "<style scoped>\n",
       "    .dataframe tbody tr th:only-of-type {\n",
       "        vertical-align: middle;\n",
       "    }\n",
       "\n",
       "    .dataframe tbody tr th {\n",
       "        vertical-align: top;\n",
       "    }\n",
       "\n",
       "    .dataframe thead th {\n",
       "        text-align: right;\n",
       "    }\n",
       "</style>\n",
       "<table border=\"1\" class=\"dataframe\">\n",
       "  <thead>\n",
       "    <tr style=\"text-align: right;\">\n",
       "      <th></th>\n",
       "      <th>name</th>\n",
       "      <th>essround</th>\n",
       "      <th>edition</th>\n",
       "      <th>proddate</th>\n",
       "      <th>idno</th>\n",
       "      <th>cntry</th>\n",
       "      <th>dweight</th>\n",
       "      <th>pspwght</th>\n",
       "      <th>pweight</th>\n",
       "      <th>anweight</th>\n",
       "      <th>...</th>\n",
       "      <th>rinwe</th>\n",
       "      <th>inwde</th>\n",
       "      <th>jinws</th>\n",
       "      <th>jinwe</th>\n",
       "      <th>inwtm</th>\n",
       "      <th>mode</th>\n",
       "      <th>domain</th>\n",
       "      <th>prob</th>\n",
       "      <th>stratum</th>\n",
       "      <th>psu</th>\n",
       "    </tr>\n",
       "  </thead>\n",
       "  <tbody>\n",
       "    <tr>\n",
       "      <th>0</th>\n",
       "      <td>ESS11e03</td>\n",
       "      <td>11</td>\n",
       "      <td>3.0</td>\n",
       "      <td>02.06.2025</td>\n",
       "      <td>50014</td>\n",
       "      <td>AT</td>\n",
       "      <td>1.185115</td>\n",
       "      <td>0.392891</td>\n",
       "      <td>0.330915</td>\n",
       "      <td>0.130013</td>\n",
       "      <td>...</td>\n",
       "      <td>NaN</td>\n",
       "      <td>2023-11-12 15:26:55</td>\n",
       "      <td>2023-11-12 15:21:28</td>\n",
       "      <td>2023-11-12 15:26:55</td>\n",
       "      <td>30.0</td>\n",
       "      <td>1</td>\n",
       "      <td>2.0</td>\n",
       "      <td>0.000579</td>\n",
       "      <td>107</td>\n",
       "      <td>317</td>\n",
       "    </tr>\n",
       "    <tr>\n",
       "      <th>1</th>\n",
       "      <td>ESS11e03</td>\n",
       "      <td>11</td>\n",
       "      <td>3.0</td>\n",
       "      <td>02.06.2025</td>\n",
       "      <td>50030</td>\n",
       "      <td>AT</td>\n",
       "      <td>0.609898</td>\n",
       "      <td>0.325153</td>\n",
       "      <td>0.330915</td>\n",
       "      <td>0.107598</td>\n",
       "      <td>...</td>\n",
       "      <td>NaN</td>\n",
       "      <td>2023-10-18 10:44:18</td>\n",
       "      <td>2023-10-18 10:42:22</td>\n",
       "      <td>2023-10-18 10:44:18</td>\n",
       "      <td>40.0</td>\n",
       "      <td>1</td>\n",
       "      <td>1.0</td>\n",
       "      <td>0.001124</td>\n",
       "      <td>69</td>\n",
       "      <td>128</td>\n",
       "    </tr>\n",
       "    <tr>\n",
       "      <th>2</th>\n",
       "      <td>ESS11e03</td>\n",
       "      <td>11</td>\n",
       "      <td>3.0</td>\n",
       "      <td>02.06.2025</td>\n",
       "      <td>50057</td>\n",
       "      <td>AT</td>\n",
       "      <td>1.392330</td>\n",
       "      <td>4.000023</td>\n",
       "      <td>0.330915</td>\n",
       "      <td>1.323666</td>\n",
       "      <td>...</td>\n",
       "      <td>NaN</td>\n",
       "      <td>2023-09-30 14:13:33</td>\n",
       "      <td>2023-09-30 14:08:31</td>\n",
       "      <td>2023-09-30 14:13:33</td>\n",
       "      <td>42.0</td>\n",
       "      <td>1</td>\n",
       "      <td>2.0</td>\n",
       "      <td>0.000493</td>\n",
       "      <td>18</td>\n",
       "      <td>418</td>\n",
       "    </tr>\n",
       "    <tr>\n",
       "      <th>3</th>\n",
       "      <td>ESS11e03</td>\n",
       "      <td>11</td>\n",
       "      <td>3.0</td>\n",
       "      <td>02.06.2025</td>\n",
       "      <td>50106</td>\n",
       "      <td>AT</td>\n",
       "      <td>0.556061</td>\n",
       "      <td>0.176228</td>\n",
       "      <td>0.330915</td>\n",
       "      <td>0.058316</td>\n",
       "      <td>...</td>\n",
       "      <td>NaN</td>\n",
       "      <td>2023-06-30 15:11:21</td>\n",
       "      <td>2023-06-30 15:08:05</td>\n",
       "      <td>2023-06-30 15:11:21</td>\n",
       "      <td>34.0</td>\n",
       "      <td>1</td>\n",
       "      <td>1.0</td>\n",
       "      <td>0.001233</td>\n",
       "      <td>101</td>\n",
       "      <td>295</td>\n",
       "    </tr>\n",
       "    <tr>\n",
       "      <th>4</th>\n",
       "      <td>ESS11e03</td>\n",
       "      <td>11</td>\n",
       "      <td>3.0</td>\n",
       "      <td>02.06.2025</td>\n",
       "      <td>50145</td>\n",
       "      <td>AT</td>\n",
       "      <td>0.722795</td>\n",
       "      <td>1.060940</td>\n",
       "      <td>0.330915</td>\n",
       "      <td>0.351080</td>\n",
       "      <td>...</td>\n",
       "      <td>NaN</td>\n",
       "      <td>2023-07-11 11:14:03</td>\n",
       "      <td>2023-07-11 11:10:02</td>\n",
       "      <td>2023-07-11 11:14:03</td>\n",
       "      <td>57.0</td>\n",
       "      <td>1</td>\n",
       "      <td>2.0</td>\n",
       "      <td>0.000949</td>\n",
       "      <td>115</td>\n",
       "      <td>344</td>\n",
       "    </tr>\n",
       "  </tbody>\n",
       "</table>\n",
       "<p>5 rows × 676 columns</p>\n",
       "</div>"
      ],
      "text/plain": [
       "       name  essround  edition    proddate   idno cntry   dweight   pspwght  \\\n",
       "0  ESS11e03        11      3.0  02.06.2025  50014    AT  1.185115  0.392891   \n",
       "1  ESS11e03        11      3.0  02.06.2025  50030    AT  0.609898  0.325153   \n",
       "2  ESS11e03        11      3.0  02.06.2025  50057    AT  1.392330  4.000023   \n",
       "3  ESS11e03        11      3.0  02.06.2025  50106    AT  0.556061  0.176228   \n",
       "4  ESS11e03        11      3.0  02.06.2025  50145    AT  0.722795  1.060940   \n",
       "\n",
       "    pweight  anweight  ...  rinwe                inwde                jinws  \\\n",
       "0  0.330915  0.130013  ...    NaN  2023-11-12 15:26:55  2023-11-12 15:21:28   \n",
       "1  0.330915  0.107598  ...    NaN  2023-10-18 10:44:18  2023-10-18 10:42:22   \n",
       "2  0.330915  1.323666  ...    NaN  2023-09-30 14:13:33  2023-09-30 14:08:31   \n",
       "3  0.330915  0.058316  ...    NaN  2023-06-30 15:11:21  2023-06-30 15:08:05   \n",
       "4  0.330915  0.351080  ...    NaN  2023-07-11 11:14:03  2023-07-11 11:10:02   \n",
       "\n",
       "                 jinwe  inwtm  mode  domain      prob  stratum  psu  \n",
       "0  2023-11-12 15:26:55   30.0     1     2.0  0.000579      107  317  \n",
       "1  2023-10-18 10:44:18   40.0     1     1.0  0.001124       69  128  \n",
       "2  2023-09-30 14:13:33   42.0     1     2.0  0.000493       18  418  \n",
       "3  2023-06-30 15:11:21   34.0     1     1.0  0.001233      101  295  \n",
       "4  2023-07-11 11:14:03   57.0     1     2.0  0.000949      115  344  \n",
       "\n",
       "[5 rows x 676 columns]"
      ]
     },
     "execution_count": 4,
     "metadata": {},
     "output_type": "execute_result"
    }
   ],
   "source": [
    "df.head()"
   ]
  },
  {
   "cell_type": "code",
   "execution_count": 5,
   "id": "ae4da156",
   "metadata": {},
   "outputs": [
    {
     "data": {
      "text/plain": [
       "Index(['name', 'essround', 'edition', 'proddate', 'idno', 'cntry', 'dweight',\n",
       "       'pspwght', 'pweight', 'anweight',\n",
       "       ...\n",
       "       'rinwe', 'inwde', 'jinws', 'jinwe', 'inwtm', 'mode', 'domain', 'prob',\n",
       "       'stratum', 'psu'],\n",
       "      dtype='object', length=676)"
      ]
     },
     "execution_count": 5,
     "metadata": {},
     "output_type": "execute_result"
    }
   ],
   "source": [
    "df.columns"
   ]
  },
  {
   "cell_type": "code",
   "execution_count": 6,
   "id": "fd4fe6d7",
   "metadata": {},
   "outputs": [
    {
     "name": "stdout",
     "output_type": "stream",
     "text": [
      "<class 'pandas.core.frame.DataFrame'>\n",
      "RangeIndex: 46162 entries, 0 to 46161\n",
      "Columns: 676 entries, name to psu\n",
      "dtypes: float64(264), int64(388), object(24)\n",
      "memory usage: 238.1+ MB\n"
     ]
    }
   ],
   "source": [
    "df.info()"
   ]
  },
  {
   "cell_type": "code",
   "execution_count": 7,
   "id": "4cad257f",
   "metadata": {},
   "outputs": [
    {
     "data": {
      "text/plain": [
       "name            0\n",
       "essround        0\n",
       "edition         0\n",
       "proddate        0\n",
       "idno            0\n",
       "            ...  \n",
       "mode            0\n",
       "domain      20017\n",
       "prob            0\n",
       "stratum         0\n",
       "psu             0\n",
       "Length: 676, dtype: int64"
      ]
     },
     "execution_count": 7,
     "metadata": {},
     "output_type": "execute_result"
    }
   ],
   "source": [
    "df.isnull().sum()"
   ]
  },
  {
   "cell_type": "code",
   "execution_count": 8,
   "id": "1ef70c67",
   "metadata": {},
   "outputs": [
    {
     "data": {
      "text/plain": [
       "np.int64(0)"
      ]
     },
     "execution_count": 8,
     "metadata": {},
     "output_type": "execute_result"
    }
   ],
   "source": [
    "df.duplicated().sum()"
   ]
  },
  {
   "cell_type": "code",
   "execution_count": 9,
   "id": "fd360949",
   "metadata": {},
   "outputs": [],
   "source": [
    "# Variables seleccionadas: país, id del encuestado/a, interés por la política, \n",
    "# haber votado, ideología, satisfacción con la democracia, satisfacción con la \n",
    "# vida, apoyo al colectivo LGTB, género, edad, estado civil, educación, \n",
    "# y decil de income en la familia.\n",
    "\n",
    "df_reduced = df[['cntry', 'idno', 'polintr', 'vote', 'lrscale', 'stfdem', 'stflife', 'freehms', 'gndr', 'agea', 'marsts', 'eisced', 'hinctnta']]"
   ]
  },
  {
   "cell_type": "code",
   "execution_count": 10,
   "id": "24acbaa2",
   "metadata": {},
   "outputs": [
    {
     "data": {
      "text/html": [
       "<div>\n",
       "<style scoped>\n",
       "    .dataframe tbody tr th:only-of-type {\n",
       "        vertical-align: middle;\n",
       "    }\n",
       "\n",
       "    .dataframe tbody tr th {\n",
       "        vertical-align: top;\n",
       "    }\n",
       "\n",
       "    .dataframe thead th {\n",
       "        text-align: right;\n",
       "    }\n",
       "</style>\n",
       "<table border=\"1\" class=\"dataframe\">\n",
       "  <thead>\n",
       "    <tr style=\"text-align: right;\">\n",
       "      <th></th>\n",
       "      <th>cntry</th>\n",
       "      <th>idno</th>\n",
       "      <th>polintr</th>\n",
       "      <th>vote</th>\n",
       "      <th>lrscale</th>\n",
       "      <th>stfdem</th>\n",
       "      <th>stflife</th>\n",
       "      <th>freehms</th>\n",
       "      <th>gndr</th>\n",
       "      <th>agea</th>\n",
       "      <th>marsts</th>\n",
       "      <th>eisced</th>\n",
       "      <th>hinctnta</th>\n",
       "    </tr>\n",
       "  </thead>\n",
       "  <tbody>\n",
       "    <tr>\n",
       "      <th>0</th>\n",
       "      <td>AT</td>\n",
       "      <td>50014</td>\n",
       "      <td>1</td>\n",
       "      <td>1</td>\n",
       "      <td>5</td>\n",
       "      <td>6</td>\n",
       "      <td>8</td>\n",
       "      <td>2</td>\n",
       "      <td>1</td>\n",
       "      <td>65</td>\n",
       "      <td>66</td>\n",
       "      <td>3</td>\n",
       "      <td>6</td>\n",
       "    </tr>\n",
       "    <tr>\n",
       "      <th>1</th>\n",
       "      <td>AT</td>\n",
       "      <td>50030</td>\n",
       "      <td>2</td>\n",
       "      <td>1</td>\n",
       "      <td>0</td>\n",
       "      <td>7</td>\n",
       "      <td>9</td>\n",
       "      <td>1</td>\n",
       "      <td>2</td>\n",
       "      <td>21</td>\n",
       "      <td>6</td>\n",
       "      <td>5</td>\n",
       "      <td>1</td>\n",
       "    </tr>\n",
       "    <tr>\n",
       "      <th>2</th>\n",
       "      <td>AT</td>\n",
       "      <td>50057</td>\n",
       "      <td>2</td>\n",
       "      <td>1</td>\n",
       "      <td>3</td>\n",
       "      <td>6</td>\n",
       "      <td>10</td>\n",
       "      <td>1</td>\n",
       "      <td>2</td>\n",
       "      <td>53</td>\n",
       "      <td>66</td>\n",
       "      <td>6</td>\n",
       "      <td>5</td>\n",
       "    </tr>\n",
       "    <tr>\n",
       "      <th>3</th>\n",
       "      <td>AT</td>\n",
       "      <td>50106</td>\n",
       "      <td>3</td>\n",
       "      <td>2</td>\n",
       "      <td>5</td>\n",
       "      <td>6</td>\n",
       "      <td>7</td>\n",
       "      <td>2</td>\n",
       "      <td>2</td>\n",
       "      <td>78</td>\n",
       "      <td>4</td>\n",
       "      <td>5</td>\n",
       "      <td>2</td>\n",
       "    </tr>\n",
       "    <tr>\n",
       "      <th>4</th>\n",
       "      <td>AT</td>\n",
       "      <td>50145</td>\n",
       "      <td>2</td>\n",
       "      <td>1</td>\n",
       "      <td>2</td>\n",
       "      <td>8</td>\n",
       "      <td>9</td>\n",
       "      <td>2</td>\n",
       "      <td>1</td>\n",
       "      <td>64</td>\n",
       "      <td>66</td>\n",
       "      <td>3</td>\n",
       "      <td>77</td>\n",
       "    </tr>\n",
       "  </tbody>\n",
       "</table>\n",
       "</div>"
      ],
      "text/plain": [
       "  cntry   idno  polintr  vote  lrscale  stfdem  stflife  freehms  gndr  agea  \\\n",
       "0    AT  50014        1     1        5       6        8        2     1    65   \n",
       "1    AT  50030        2     1        0       7        9        1     2    21   \n",
       "2    AT  50057        2     1        3       6       10        1     2    53   \n",
       "3    AT  50106        3     2        5       6        7        2     2    78   \n",
       "4    AT  50145        2     1        2       8        9        2     1    64   \n",
       "\n",
       "   marsts  eisced  hinctnta  \n",
       "0      66       3         6  \n",
       "1       6       5         1  \n",
       "2      66       6         5  \n",
       "3       4       5         2  \n",
       "4      66       3        77  "
      ]
     },
     "execution_count": 10,
     "metadata": {},
     "output_type": "execute_result"
    }
   ],
   "source": [
    "df_reduced.head()"
   ]
  },
  {
   "cell_type": "code",
   "execution_count": 11,
   "id": "d03b2443",
   "metadata": {},
   "outputs": [
    {
     "data": {
      "text/plain": [
       "np.int64(357)"
      ]
     },
     "execution_count": 11,
     "metadata": {},
     "output_type": "execute_result"
    }
   ],
   "source": [
    "(df['agea'] == 999).sum()"
   ]
  },
  {
   "cell_type": "code",
   "execution_count": 13,
   "id": "f07d6b1c",
   "metadata": {},
   "outputs": [
    {
     "name": "stdout",
     "output_type": "stream",
     "text": [
      "Media de ipeqopta para Chipre: 5.359398496240601\n"
     ]
    },
    {
     "name": "stderr",
     "output_type": "stream",
     "text": [
      "C:\\Users\\paula\\AppData\\Local\\Temp\\ipykernel_27148\\3810613281.py:4: SettingWithCopyWarning: \n",
      "A value is trying to be set on a copy of a slice from a DataFrame.\n",
      "Try using .loc[row_indexer,col_indexer] = value instead\n",
      "\n",
      "See the caveats in the documentation: https://pandas.pydata.org/pandas-docs/stable/user_guide/indexing.html#returning-a-view-versus-a-copy\n",
      "  cyprus_data['ipeqopta'] = 7 - cyprus_data['ipeqopta']\n"
     ]
    }
   ],
   "source": [
    "# Filter for Cyprus and exclude invalid values\n",
    "cyprus_data = df[(df['cntry'] == 'CY') & (~df['ipeqopta'].isin([66, 77, 88, 99]))]\n",
    "# Invert the values: 1 becomes 6 and 6 becomes 1\n",
    "cyprus_data['ipeqopta'] = 7 - cyprus_data['ipeqopta']\n",
    "# Calculate mean\n",
    "mean_ipeqopta = cyprus_data['ipeqopta'].mean()\n",
    "print(f\"Media de ipeqopta para Chipre: {mean_ipeqopta}\")"
   ]
  }
 ],
 "metadata": {
  "kernelspec": {
   "display_name": "Python 3",
   "language": "python",
   "name": "python3"
  },
  "language_info": {
   "codemirror_mode": {
    "name": "ipython",
    "version": 3
   },
   "file_extension": ".py",
   "mimetype": "text/x-python",
   "name": "python",
   "nbconvert_exporter": "python",
   "pygments_lexer": "ipython3",
   "version": "3.12.10"
  }
 },
 "nbformat": 4,
 "nbformat_minor": 5
}
